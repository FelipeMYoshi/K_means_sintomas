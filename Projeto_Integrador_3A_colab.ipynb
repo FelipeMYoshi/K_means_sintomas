{
  "nbformat": 4,
  "nbformat_minor": 0,
  "metadata": {
    "colab": {
      "name": "Projeto Integrador 3A_colab",
      "provenance": [],
      "collapsed_sections": [],
      "include_colab_link": true
    },
    "kernelspec": {
      "display_name": "Python 3",
      "name": "python3"
    },
    "language_info": {
      "name": "python"
    }
  },
  "cells": [
    {
      "cell_type": "markdown",
      "metadata": {
        "id": "view-in-github",
        "colab_type": "text"
      },
      "source": [
        "<a href=\"https://colab.research.google.com/github/FelipeMYoshi/K_means_sintomas/blob/main/Projeto_Integrador_3A_colab.ipynb\" target=\"_parent\"><img src=\"https://colab.research.google.com/assets/colab-badge.svg\" alt=\"Open In Colab\"/></a>"
      ]
    },
    {
      "cell_type": "code",
      "metadata": {
        "id": "zaOVt7O6kQWq"
      },
      "source": [
        "#   Algoritmo   : Detecção de Doenças (K-means)\n",
        "#   Disciplina  : Projeto Integrador III-A (11304920005_20212_01)\n",
        "#   Professor   : GUSTAVO SIQUEIRA VINHAL\n",
        "#   Descrição   : Detecção de doenças com base em sintomas\n",
        "#   Data atual  : Versão-29.09.2021\n",
        "#   Estudantes  : Deibe Paiva Lima\n",
        "#                 Felipe Martins Yoshimoto \n",
        "#                 Guilherme Colherinhas de Oliveira\n",
        "\n",
        "\n",
        "#   As doenças escolhidas para compor o banco de informações para avaliação do programa foram:\n",
        "#       Malária  (Alvo = 0)\n",
        "#       Covid-19 (Alvo = 1)\n",
        "#       Gripe    (Alvo = 2)\n",
        "\n",
        "#   Estas três doenças foram escolhidas por possuir alguns sintomas similares e, \n",
        "#   em nossa avaliação, o recurso computacional poderia ser útil para ajudar a distinguir\n",
        "#   possíveis casos de Covid-19 em uma primeira triagem. \n",
        "\n",
        "#   A etapa de aprendizado de máquina foi realizada utilizando um conjunto de 300 instâncias\n",
        "#   contendo 3 sintomas de cada doença. O conjunto de dados foi então dividido em 70% e 30%, \n",
        "#   correspondendo a dados de treinamento e teste, respectivamente."
      ],
      "execution_count": null,
      "outputs": []
    },
    {
      "cell_type": "code",
      "metadata": {
        "id": "2uFoShbZbwHC"
      },
      "source": [
        "from sklearn.cluster import KMeans\n",
        "import pandas as pa\n",
        "from sklearn.metrics import confusion_matrix\n",
        "from sklearn.metrics import accuracy_score\n",
        "from sklearn.model_selection import train_test_split\n",
        "from google.colab import drive\n",
        "import seaborn as sb\n",
        "import matplotlib.pyplot as pp\n",
        "import numpy as np\n",
        "\n",
        "def ler_sintomas():  # Esta função realiza e valida a leitura (entrada) dedef ler_sintomas():\n",
        "# Esta função realiza e valida a leitura (entrada) de dados (sintomas) pelo usuário dados (sintomas) pelo usuário\n",
        "    while True:\n",
        "      print('')\n",
        "      print('ESCOLHA 3 SINTOMAS (MENOS PARA O MAIS GRAVE):')\n",
        "      print('')\n",
        "      print('1\tTosse com catarro                              2\tNausea e vômito')\n",
        "      print('3\tFrebre e dores o corpo                         4\tCansaço')\n",
        "      print('5\tDiarreia                                       6\tPerda do Paladar e Olfato')\n",
        "      print('7\tFalta de ar e dores no peito')\n",
        "      print('')\n",
        "      s = input('Digite uma das opções acima: ')\n",
        "      if s in ('1', '2', '3', '4', '5', '6', '7'):\n",
        "        print('OPÇÃO REGISTRADA')\n",
        "        break\n",
        "      else:\n",
        "        print('OPÇÃO INVÁLIDA')\n",
        "        print('')\n",
        "    return s\n",
        "\n",
        "\n",
        "def apresentacao_sintomas(sintomas):  # Esta função apresenta os sintomas informados pelo usuário\n",
        "    for i in range(0,3):\n",
        "        if sintomas[i] == '1':\n",
        "            print('   Tosse com catarro')\n",
        "            paciente[0][i] = 1\n",
        "        elif sintomas[i] == '2':\n",
        "            print('   Nausea e vômito')\n",
        "            paciente[0][i] = 2\n",
        "        elif sintomas[i] == '3':\n",
        "            print('   Frebre e dores o corpo')\n",
        "            paciente[0][i] = 3\n",
        "        elif sintomas[i] == '4':\n",
        "            print('   Cansaço')\n",
        "            paciente[0][i] = 4\n",
        "        elif sintomas[i] == '5':\n",
        "            print('   Diarreia')\n",
        "            paciente[0][i] = 5\n",
        "        elif sintomas[i] == '6':\n",
        "            print('   Perda do Paladar e Olfato')\n",
        "            paciente[0][i] = 6\n",
        "        elif sintomas[i] == '7':\n",
        "            print('   Falta de ar e dores no peito')\n",
        "            paciente[0][i] = 7\n",
        "    return\n",
        "\n",
        "\n",
        "def apresentacao_resul(resultado):  # Esta função calcula e apresenta o diagnóstico com base nos pesos\n",
        "    if resultado == 0:  # atribuidos aos sintomas\n",
        "        print('        Possível diagnóstico: Malária')\n",
        "    if resultado == 1:\n",
        "        print('        Possível diagnóstico: Covid-19')\n",
        "    if resultado == 2:\n",
        "        print('        Possível diagnóstico: Gripe')\n",
        "    return"
      ],
      "execution_count": null,
      "outputs": []
    },
    {
      "cell_type": "code",
      "metadata": {
        "colab": {
          "base_uri": "https://localhost:8080/"
        },
        "id": "XHpBH6_7e-RN",
        "outputId": "f77fc3d3-974b-4ec2-c4d2-daf776e4a9d6"
      },
      "source": [
        "#  Plotando a matriz de confusão e acurácia\n",
        "#  Foi utilizado 70% de treinamento e 30% de teste\n",
        "\n",
        "drive.mount('/content/drive')\n",
        "\n",
        "df = pa.read_csv('/content/drive/My Drive/ProjetoIntegrador3A/dataset2.csv',sep=';',encoding='utf-8', names=['Sintoma 1', 'Sintoma 2', 'Sintoma 3','Alvo'])\n",
        "x = pa.DataFrame(data=df, columns=['Sintoma 1', 'Sintoma 2', 'Sintoma 3'])\n",
        "y = pa.DataFrame(data=df, columns=['Alvo'])\n",
        "\n",
        "x_treino, x_teste, y_treino, y_teste = train_test_split(x, y, test_size=0.3, random_state=4)\n",
        "\n",
        "alg = KMeans(n_clusters=3, random_state=15)\n",
        "alg.fit(x_treino)\n",
        "prevs = alg.predict(x_teste)\n",
        "y_prevs = prevs\n",
        "\n",
        "print('')\n",
        "print('MATRIZ DE CONFUSÃO E ACURÁCIA: ')\n",
        "print('')\n",
        "cm = confusion_matrix(y_teste, y_prevs)\n",
        "cmtx = pa.DataFrame(cm, index=(['Real: Malária', 'Real: Covid-19','Real: Gripe']),columns=(['Prev: Malária','Prev: Covid-19','Prev: Gripe']))\n",
        "print(cmtx)\n",
        "acc = accuracy_score(y_teste,y_prevs)\n",
        "print('Acurácia no Teste: {0:0.2f}%'.format(acc*100))"
      ],
      "execution_count": null,
      "outputs": [
        {
          "output_type": "stream",
          "name": "stdout",
          "text": [
            "Drive already mounted at /content/drive; to attempt to forcibly remount, call drive.mount(\"/content/drive\", force_remount=True).\n",
            "\n",
            "MATRIZ DE CONFUSÃO E ACURÁCIA: \n",
            "\n",
            "                Prev: Malária  Prev: Covid-19  Prev: Gripe\n",
            "Real: Malária              19               0            7\n",
            "Real: Covid-19              5              27            0\n",
            "Real: Gripe                 0               0           32\n",
            "Acurácia no Teste: 86.67%\n"
          ]
        }
      ]
    },
    {
      "cell_type": "code",
      "metadata": {
        "colab": {
          "base_uri": "https://localhost:8080/"
        },
        "id": "yr6GmsVlpCNN",
        "outputId": "1874671d-f324-41c0-9b06-975442e84244"
      },
      "source": [
        "#  Matriz de correlação \n",
        "#  Com base no nosso bando de dados, observamos a matriz de correlação\n",
        "#  para avaliar o quanto os sintomas listados como 1, 2 e 3 estão correlacionados.\n",
        "#  nossos resultados mosram uma correlação entre 85 a 90% para os sintomas listados.\n",
        "\n",
        "correlacao = x.corr()\n",
        "print(correlacao)\n"
      ],
      "execution_count": null,
      "outputs": [
        {
          "output_type": "stream",
          "name": "stdout",
          "text": [
            "           Sintoma 1  Sintoma 2  Sintoma 3\n",
            "Sintoma 1   1.000000   0.859209   0.864727\n",
            "Sintoma 2   0.859209   1.000000   0.903462\n",
            "Sintoma 3   0.864727   0.903462   1.000000\n"
          ]
        }
      ]
    },
    {
      "cell_type": "code",
      "metadata": {
        "colab": {
          "base_uri": "https://localhost:8080/",
          "height": 550
        },
        "id": "MdS9DYa_gny3",
        "outputId": "8efd6bd1-2edb-4feb-cc94-afd6047c34bf"
      },
      "source": [
        "# plotando os gráficos de dispersão entre os resultados da tabela\n",
        "\n",
        "sb.pairplot(data=df, hue='Alvo', markers=[\"o\", \"s\", \"D\"], palette='tab10')\n"
      ],
      "execution_count": null,
      "outputs": [
        {
          "output_type": "display_data",
          "data": {
            "image/png": "[encoded data removed]",
            "text/plain": [
              "<Figure size 582.375x540 with 12 Axes>"
            ]
          },
          "metadata": {
            "needs_background": "light"
          }
        }
      ]
    },
    {
      "cell_type": "code",
      "metadata": {
        "colab": {
          "base_uri": "https://localhost:8080/"
        },
        "id": "ilXy8ub-ecgM",
        "outputId": "84b9306c-16c2-4b27-a330-7b0186e56f5e"
      },
      "source": [
        "while True:\n",
        "    print('')\n",
        "    nome = input('Informe o nome do Paciente:  ')\n",
        "    while True:\n",
        "        idade = input('Informe a idade do Paciente:  ')\n",
        "        if not idade.isdigit():\n",
        "            print(\"DIGITE APENAS NÚMERO!\")\n",
        "        else:\n",
        "            break\n",
        "    while True:\n",
        "        sexo = input('Informe o sexo (M/F) do Paciente:  ')\n",
        "        if sexo in 'M m F f':\n",
        "            break\n",
        "        else:\n",
        "            print('DIGITE APENAS M/F!')\n",
        "    sintomas = []\n",
        "    for i in range(0,3):\n",
        "        aux = ler_sintomas()\n",
        "        sintomas.append(aux)\n",
        "\n",
        "    print('')\n",
        "    print('PACIENTE: ', nome)\n",
        "    print('IDADE: ', idade)\n",
        "    print('SEXO: ', sexo)\n",
        "    print('')\n",
        "    print('SINTOMAS INFORMADOS :')\n",
        "    print('')\n",
        "    paciente = [[sintomas[0], sintomas[1], sintomas[2]]]\n",
        "    apresentacao_sintomas(sintomas)\n",
        "    resultado_exame = alg.predict(paciente)\n",
        "    print('')\n",
        "    print('DIAGNÓSTICO: ')\n",
        "    print('')\n",
        "    apresentacao_resul(resultado_exame)\n",
        "    print('')\n",
        "    while True:\n",
        "        print('')\n",
        "        aux2 = input('Deseja inserir dados de outro paciente (s/n)?: ')\n",
        "        if aux2 in ('s', 'S', 'n', 'N'):\n",
        "            break\n",
        "        else:\n",
        "            print('Opção Inválida!')\n",
        "    if aux2 in ('n', 'N'):\n",
        "        print('OPERAÇÃO FINALIZADA!')\n",
        "        break\n"
      ],
      "execution_count": null,
      "outputs": [
        {
          "output_type": "stream",
          "name": "stdout",
          "text": [
            "\n",
            "Informe o nome do Paciente:  guilherme\n",
            "Informe a idade do Paciente:  44\n",
            "Informe o sexo (M/F) do Paciente:  m\n",
            "\n",
            "ESCOLHA 3 SINTOMAS (MENOS PARA O MAIS GRAVE):\n",
            "\n",
            "1\tTosse com catarro                              2\tNausea e vômito\n",
            "3\tFrebre e dores o corpo                         4\tCansaço\n",
            "5\tDiarreia                                       6\tPerda do Paladar e Olfato\n",
            "7\tFalta de ar e dores no peito\n",
            "\n",
            "Digite uma das opções acima: 1\n",
            "OPÇÃO REGISTRADA\n",
            "\n",
            "ESCOLHA 3 SINTOMAS (MENOS PARA O MAIS GRAVE):\n",
            "\n",
            "1\tTosse com catarro                              2\tNausea e vômito\n",
            "3\tFrebre e dores o corpo                         4\tCansaço\n",
            "5\tDiarreia                                       6\tPerda do Paladar e Olfato\n",
            "7\tFalta de ar e dores no peito\n",
            "\n",
            "Digite uma das opções acima: 9\n",
            "OPÇÃO INVÁLIDA\n",
            "\n",
            "\n",
            "ESCOLHA 3 SINTOMAS (MENOS PARA O MAIS GRAVE):\n",
            "\n",
            "1\tTosse com catarro                              2\tNausea e vômito\n",
            "3\tFrebre e dores o corpo                         4\tCansaço\n",
            "5\tDiarreia                                       6\tPerda do Paladar e Olfato\n",
            "7\tFalta de ar e dores no peito\n",
            "\n",
            "Digite uma das opções acima: 9\n",
            "OPÇÃO INVÁLIDA\n",
            "\n",
            "\n",
            "ESCOLHA 3 SINTOMAS (MENOS PARA O MAIS GRAVE):\n",
            "\n",
            "1\tTosse com catarro                              2\tNausea e vômito\n",
            "3\tFrebre e dores o corpo                         4\tCansaço\n",
            "5\tDiarreia                                       6\tPerda do Paladar e Olfato\n",
            "7\tFalta de ar e dores no peito\n",
            "\n",
            "Digite uma das opções acima: 1\n",
            "OPÇÃO REGISTRADA\n",
            "\n",
            "ESCOLHA 3 SINTOMAS (MENOS PARA O MAIS GRAVE):\n",
            "\n",
            "1\tTosse com catarro                              2\tNausea e vômito\n",
            "3\tFrebre e dores o corpo                         4\tCansaço\n",
            "5\tDiarreia                                       6\tPerda do Paladar e Olfato\n",
            "7\tFalta de ar e dores no peito\n",
            "\n",
            "Digite uma das opções acima: 2\n",
            "OPÇÃO REGISTRADA\n",
            "\n",
            "PACIENTE:  guilherme\n",
            "IDADE:  44\n",
            "SEXO:  m\n",
            "\n",
            "SINTOMAS INFORMADOS :\n",
            "\n",
            "   Tosse com catarro\n",
            "   Tosse com catarro\n",
            "   Nausea e vômito\n",
            "\n",
            "DIAGNÓSTICO: \n",
            "\n",
            "        Possível diagnóstico: Gripe\n",
            "\n",
            "\n",
            "Deseja inserir dados de outro paciente (s/n)?: n\n",
            "OPERAÇÃO FINALIZADA!\n"
          ]
        }
      ]
    }
  ]
}